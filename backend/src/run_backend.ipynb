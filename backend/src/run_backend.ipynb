{
 "cells": [
  {
   "cell_type": "code",
   "execution_count": 5,
   "metadata": {},
   "outputs": [],
   "source": [
    "import sys\n",
    "from datetime import datetime, timezone\n",
    "from astropy.time import Time\n",
    "import uuid\n",
    "\n",
    "sys.path.append(r\"c:\\Users\\lawre\\OneDrive - University of Toronto\\4th Year\\ECE496\\capstone-team-2024962\\backend\\src\\utils\")\n",
    "sys.path.append(r\"c:\\Users\\lawre\\OneDrive - University of Toronto\\4th Year\\ECE496\\capstone-team-2024962\\backend\")\n",
    "\n",
    "from utils.integration import find_flights_intersecting\n",
    "from utils.fov import check_flights_in_fov\n",
    "from utils.datatypes import ProcessedFlightInfo\n"
   ]
  },
  {
   "cell_type": "code",
   "execution_count": 6,
   "metadata": {},
   "outputs": [
    {
     "name": "stdout",
     "output_type": "stream",
     "text": [
      "0.0\n",
      "input:  0.0 0.011288433419906596 106.68061736539838\n"
     ]
    },
    {
     "data": {
      "text/plain": [
       "{'flight_info': [],\n",
       " 'fov_border': {'lat': np.float64(0.0),\n",
       "  'lon': np.float64(0.011288433419906596),\n",
       "  'radius': 106.68061736539838}}"
      ]
     },
     "execution_count": 6,
     "metadata": {},
     "output_type": "execute_result"
    }
   ],
   "source": [
    "# Telescope settings\n",
    "focal_length = 6000\n",
    "camera_sensor_size = 50\n",
    "barlow_reducer_factor = 1\n",
    "exposure = 30\n",
    "fov_center_ra_h = 0 \n",
    "fov_center_ra_m = 0\n",
    "fov_center_ra_s = 0\n",
    "fov_center_dec = 0\n",
    "time = Time(datetime(2025,3,13,12,34,22,tzinfo=timezone.utc))\n",
    "\n",
    "fov_border = check_flights_in_fov(focal_length, camera_sensor_size, barlow_reducer_factor, \n",
    "                                  fov_center_ra_h, fov_center_ra_m, fov_center_ra_s, fov_center_dec,\n",
    "                                  flight_data_type=\"simulated\", simulated_flights=[], time = time)\n",
    "\n",
    "fov_border\n",
    "\n"
   ]
  },
  {
   "cell_type": "code",
   "execution_count": 7,
   "metadata": {},
   "outputs": [],
   "source": [
    "# observer and Flight information\n",
    "observer_lat = 0\n",
    "observer_lon = 0\n",
    "observer_elev = 0\n",
    "\n",
    "simulated_flights = [\n",
    "    ProcessedFlightInfo(uuid.uuid4(), \"SIM1\", 0.001, 0, 30000, 800, 180)\n",
    "]"
   ]
  },
  {
   "cell_type": "code",
   "execution_count": null,
   "metadata": {},
   "outputs": [
    {
     "name": "stdout",
     "output_type": "stream",
     "text": [
      "0.0\n",
      "0.0\n",
      "2025-03-13 12:34:22 0\n",
      "[[{'ID': UUID('c2e0528e-d55f-43a2-9a1d-e00fd07ec903'), 'RA': np.float64(347.4981054762556), 'Dec': 89.78663431271255}], [{'ID': UUID('c2e0528e-d55f-43a2-9a1d-e00fd07ec903'), 'RA': np.float64(167.49984270714296), 'Dec': 82.61481069230327}], [{'ID': UUID('c2e0528e-d55f-43a2-9a1d-e00fd07ec903'), 'RA': np.float64(167.501452782505), 'Dec': 75.2656882893161}], [{'ID': UUID('c2e0528e-d55f-43a2-9a1d-e00fd07ec903'), 'RA': np.float64(167.50313539341892), 'Dec': 68.37555088805703}], [{'ID': UUID('c2e0528e-d55f-43a2-9a1d-e00fd07ec903'), 'RA': np.float64(167.50478958507074), 'Dec': 62.07832604288622}], [{'ID': UUID('c2e0528e-d55f-43a2-9a1d-e00fd07ec903'), 'RA': np.float64(167.5064618051122), 'Dec': 56.43074895609177}]]\n"
     ]
    }
   ],
   "source": [
    "# Run\n",
    "flights_position, flight_data = flights_in_fov = find_flights_intersecting(focal_length, camera_sensor_size, barlow_reducer_factor,\n",
    "                                                                           exposure, fov_center_ra_h, fov_center_ra_m, fov_center_ra_s, fov_center_dec,\n",
    "                                                                           observer_lat, observer_lon, observer_elev, \n",
    "                                                                           flight_data_type=\"simulated\", simulated_flights=simulated_flights, simulated_time=time)\n",
    "\n",
    "for flight in flight_data:\n",
    "    print(flight.entry, flight.exit)\n",
    "\n",
    "for fp in flights_position:\n",
    "    print(fp)"
   ]
  },
  {
   "cell_type": "code",
   "execution_count": null,
   "metadata": {},
   "outputs": [],
   "source": []
  }
 ],
 "metadata": {
  "kernelspec": {
   "display_name": ".venv",
   "language": "python",
   "name": "python3"
  },
  "language_info": {
   "codemirror_mode": {
    "name": "ipython",
    "version": 3
   },
   "file_extension": ".py",
   "mimetype": "text/x-python",
   "name": "python",
   "nbconvert_exporter": "python",
   "pygments_lexer": "ipython3",
   "version": "3.12.6"
  }
 },
 "nbformat": 4,
 "nbformat_minor": 2
}
