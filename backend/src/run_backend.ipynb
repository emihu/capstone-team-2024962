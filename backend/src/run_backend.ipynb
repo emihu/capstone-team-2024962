{
 "cells": [
  {
   "cell_type": "code",
   "execution_count": 1,
   "metadata": {},
   "outputs": [],
   "source": [
    "import sys\n",
    "from datetime import datetime, timezone\n",
    "from astropy.time import Time\n",
    "import uuid\n",
    "\n",
    "sys.path.append(r\"c:\\Users\\lawre\\OneDrive - University of Toronto\\4th Year\\ECE496\\capstone-team-2024962\\backend\\src\\utils\")\n",
    "sys.path.append(r\"c:\\Users\\lawre\\OneDrive - University of Toronto\\4th Year\\ECE496\\capstone-team-2024962\\backend\")\n",
    "\n",
    "from utils.integration import find_flights_intersecting\n",
    "from utils.fov import check_flights_in_fov\n",
    "from utils.datatypes import ProcessedFlightInfo\n"
   ]
  },
  {
   "cell_type": "code",
   "execution_count": 2,
   "metadata": {},
   "outputs": [
    {
     "name": "stdout",
     "output_type": "stream",
     "text": [
      "0.0\n",
      "input:  0.0 0.011288433419906596 106.68061736539838\n"
     ]
    },
    {
     "data": {
      "text/plain": [
       "{'flight_info': [],\n",
       " 'fov_border': {'lat': np.float64(0.0),\n",
       "  'lon': np.float64(0.011288433419906596),\n",
       "  'radius': 106.68061736539838}}"
      ]
     },
     "execution_count": 2,
     "metadata": {},
     "output_type": "execute_result"
    }
   ],
   "source": [
    "# Telescope settings\n",
    "focal_length = 6000\n",
    "camera_sensor_size = 50\n",
    "barlow_reducer_factor = 1\n",
    "exposure = 30\n",
    "fov_center_ra_h = 0 \n",
    "fov_center_ra_m = 0\n",
    "fov_center_ra_s = 0\n",
    "fov_center_dec = 0\n",
    "time = Time(datetime(2025,3,13,12,34,22,tzinfo=timezone.utc))\n",
    "\n",
    "fov_border = check_flights_in_fov(focal_length, camera_sensor_size, barlow_reducer_factor, \n",
    "                                  fov_center_ra_h, fov_center_ra_m, fov_center_ra_s, fov_center_dec,\n",
    "                                  flight_data_type=\"simulated\", simulated_flights=[], time = time)\n",
    "\n",
    "fov_border\n",
    "\n"
   ]
  },
  {
   "cell_type": "code",
   "execution_count": 3,
   "metadata": {},
   "outputs": [],
   "source": [
    "# observer and Flight information\n",
    "observer_lat = 0\n",
    "observer_lon = 0\n",
    "observer_elev = 0\n",
    "\n",
    "simulated_flights = [\n",
    "    ProcessedFlightInfo(uuid.uuid4(), \"SIM1\", 0.001, 0, 30000, 800, 180)\n",
    "]"
   ]
  },
  {
   "cell_type": "code",
   "execution_count": 4,
   "metadata": {},
   "outputs": [
    {
     "name": "stdout",
     "output_type": "stream",
     "text": [
      "0.0\n",
      "0.0\n",
      "5066.621156177409 0.0 9143.99970739201\n"
     ]
    },
    {
     "ename": "TypeError",
     "evalue": "Coordinates could not be parsed as either geocentric or geodetic, with respective exceptions \"EarthLocation.from_geocentric() got an unexpected keyword argument 'lat'\" and \"Latitude angle(s) must be within -90 deg <= angle <= 90 deg, got 5066.621156177409 deg\"",
     "output_type": "error",
     "traceback": [
      "\u001b[31m---------------------------------------------------------------------------\u001b[39m",
      "\u001b[31mTypeError\u001b[39m                                 Traceback (most recent call last)",
      "\u001b[36mFile \u001b[39m\u001b[32mc:\\Users\\lawre\\OneDrive - University of Toronto\\4th Year\\ECE496\\capstone-team-2024962\\.venv\\Lib\\site-packages\\astropy\\coordinates\\earth.py:220\u001b[39m, in \u001b[36mEarthLocation.__new__\u001b[39m\u001b[34m(cls, *args, **kwargs)\u001b[39m\n\u001b[32m    219\u001b[39m \u001b[38;5;28;01mtry\u001b[39;00m:\n\u001b[32m--> \u001b[39m\u001b[32m220\u001b[39m     \u001b[38;5;28mself\u001b[39m = \u001b[38;5;28;43mcls\u001b[39;49m\u001b[43m.\u001b[49m\u001b[43mfrom_geocentric\u001b[49m\u001b[43m(\u001b[49m\u001b[43m*\u001b[49m\u001b[43margs\u001b[49m\u001b[43m,\u001b[49m\u001b[43m \u001b[49m\u001b[43m*\u001b[49m\u001b[43m*\u001b[49m\u001b[43mkwargs\u001b[49m\u001b[43m)\u001b[49m\n\u001b[32m    221\u001b[39m \u001b[38;5;28;01mexcept\u001b[39;00m (u.UnitsError, \u001b[38;5;167;01mTypeError\u001b[39;00m) \u001b[38;5;28;01mas\u001b[39;00m exc_geocentric:\n",
      "\u001b[31mTypeError\u001b[39m: EarthLocation.from_geocentric() got an unexpected keyword argument 'lat'",
      "\nDuring handling of the above exception, another exception occurred:\n",
      "\u001b[31mValueError\u001b[39m                                Traceback (most recent call last)",
      "\u001b[36mFile \u001b[39m\u001b[32mc:\\Users\\lawre\\OneDrive - University of Toronto\\4th Year\\ECE496\\capstone-team-2024962\\.venv\\Lib\\site-packages\\astropy\\coordinates\\earth.py:223\u001b[39m, in \u001b[36mEarthLocation.__new__\u001b[39m\u001b[34m(cls, *args, **kwargs)\u001b[39m\n\u001b[32m    222\u001b[39m \u001b[38;5;28;01mtry\u001b[39;00m:\n\u001b[32m--> \u001b[39m\u001b[32m223\u001b[39m     \u001b[38;5;28mself\u001b[39m = \u001b[38;5;28;43mcls\u001b[39;49m\u001b[43m.\u001b[49m\u001b[43mfrom_geodetic\u001b[49m\u001b[43m(\u001b[49m\u001b[43m*\u001b[49m\u001b[43margs\u001b[49m\u001b[43m,\u001b[49m\u001b[43m \u001b[49m\u001b[43m*\u001b[49m\u001b[43m*\u001b[49m\u001b[43mkwargs\u001b[49m\u001b[43m)\u001b[49m\n\u001b[32m    224\u001b[39m \u001b[38;5;28;01mexcept\u001b[39;00m \u001b[38;5;167;01mException\u001b[39;00m \u001b[38;5;28;01mas\u001b[39;00m exc_geodetic:\n",
      "\u001b[36mFile \u001b[39m\u001b[32mc:\\Users\\lawre\\OneDrive - University of Toronto\\4th Year\\ECE496\\capstone-team-2024962\\.venv\\Lib\\site-packages\\astropy\\coordinates\\earth.py:321\u001b[39m, in \u001b[36mEarthLocation.from_geodetic\u001b[39m\u001b[34m(cls, lon, lat, height, ellipsoid)\u001b[39m\n\u001b[32m    320\u001b[39m lon = Angle(lon, u.degree, copy=COPY_IF_NEEDED).wrap_at(\u001b[32m180\u001b[39m * u.degree)\n\u001b[32m--> \u001b[39m\u001b[32m321\u001b[39m lat = \u001b[43mLatitude\u001b[49m\u001b[43m(\u001b[49m\u001b[43mlat\u001b[49m\u001b[43m,\u001b[49m\u001b[43m \u001b[49m\u001b[43mu\u001b[49m\u001b[43m.\u001b[49m\u001b[43mdegree\u001b[49m\u001b[43m,\u001b[49m\u001b[43m \u001b[49m\u001b[43mcopy\u001b[49m\u001b[43m=\u001b[49m\u001b[43mCOPY_IF_NEEDED\u001b[49m\u001b[43m)\u001b[49m\n\u001b[32m    322\u001b[39m \u001b[38;5;66;03m# don't convert to m by default, so we can use the height unit below.\u001b[39;00m\n",
      "\u001b[36mFile \u001b[39m\u001b[32mc:\\Users\\lawre\\OneDrive - University of Toronto\\4th Year\\ECE496\\capstone-team-2024962\\.venv\\Lib\\site-packages\\astropy\\coordinates\\angles\\core.py:604\u001b[39m, in \u001b[36mLatitude.__new__\u001b[39m\u001b[34m(cls, angle, unit, **kwargs)\u001b[39m\n\u001b[32m    603\u001b[39m \u001b[38;5;28mself\u001b[39m = \u001b[38;5;28msuper\u001b[39m().\u001b[34m__new__\u001b[39m(\u001b[38;5;28mcls\u001b[39m, angle, unit=unit, **kwargs)\n\u001b[32m--> \u001b[39m\u001b[32m604\u001b[39m \u001b[38;5;28;43mself\u001b[39;49m\u001b[43m.\u001b[49m\u001b[43m_validate_angles\u001b[49m\u001b[43m(\u001b[49m\u001b[43m)\u001b[49m\n\u001b[32m    605\u001b[39m \u001b[38;5;28;01mreturn\u001b[39;00m \u001b[38;5;28mself\u001b[39m\n",
      "\u001b[36mFile \u001b[39m\u001b[32mc:\\Users\\lawre\\OneDrive - University of Toronto\\4th Year\\ECE496\\capstone-team-2024962\\.venv\\Lib\\site-packages\\astropy\\coordinates\\angles\\core.py:636\u001b[39m, in \u001b[36mLatitude._validate_angles\u001b[39m\u001b[34m(self, angles)\u001b[39m\n\u001b[32m    635\u001b[39m \u001b[38;5;28;01mif\u001b[39;00m np.size(angles) < \u001b[32m5\u001b[39m:\n\u001b[32m--> \u001b[39m\u001b[32m636\u001b[39m     \u001b[38;5;28;01mraise\u001b[39;00m \u001b[38;5;167;01mValueError\u001b[39;00m(\n\u001b[32m    637\u001b[39m         \u001b[33m\"\u001b[39m\u001b[33mLatitude angle(s) must be within -90 deg <= angle \u001b[39m\u001b[33m\"\u001b[39m\n\u001b[32m    638\u001b[39m         \u001b[33mf\u001b[39m\u001b[33m\"\u001b[39m\u001b[33m<= 90 deg, got \u001b[39m\u001b[38;5;132;01m{\u001b[39;00mangles.to(u.degree)\u001b[38;5;132;01m}\u001b[39;00m\u001b[33m\"\u001b[39m\n\u001b[32m    639\u001b[39m     )\n\u001b[32m    640\u001b[39m \u001b[38;5;28;01mraise\u001b[39;00m \u001b[38;5;167;01mValueError\u001b[39;00m(\n\u001b[32m    641\u001b[39m     \u001b[33m\"\u001b[39m\u001b[33mLatitude angle(s) must be within -90 deg <= angle \u001b[39m\u001b[33m\"\u001b[39m\n\u001b[32m    642\u001b[39m     \u001b[33mf\u001b[39m\u001b[33m\"\u001b[39m\u001b[33m<= 90 deg, got \u001b[39m\u001b[38;5;132;01m{\u001b[39;00mangles.min().to(u.degree)\u001b[38;5;132;01m}\u001b[39;00m\u001b[33m <= \u001b[39m\u001b[33m\"\u001b[39m\n\u001b[32m    643\u001b[39m     \u001b[33mf\u001b[39m\u001b[33m\"\u001b[39m\u001b[33mangle <= \u001b[39m\u001b[38;5;132;01m{\u001b[39;00mangles.max().to(u.degree)\u001b[38;5;132;01m}\u001b[39;00m\u001b[33m\"\u001b[39m\n\u001b[32m    644\u001b[39m )\n",
      "\u001b[31mValueError\u001b[39m: Latitude angle(s) must be within -90 deg <= angle <= 90 deg, got 5066.621156177409 deg",
      "\nDuring handling of the above exception, another exception occurred:\n",
      "\u001b[31mTypeError\u001b[39m                                 Traceback (most recent call last)",
      "\u001b[36mCell\u001b[39m\u001b[36m \u001b[39m\u001b[32mIn[4]\u001b[39m\u001b[32m, line 2\u001b[39m\n\u001b[32m      1\u001b[39m \u001b[38;5;66;03m# Run\u001b[39;00m\n\u001b[32m----> \u001b[39m\u001b[32m2\u001b[39m flights_position, flight_data = flights_in_fov = \u001b[43mfind_flights_intersecting\u001b[49m\u001b[43m(\u001b[49m\u001b[43mfocal_length\u001b[49m\u001b[43m,\u001b[49m\u001b[43m \u001b[49m\u001b[43mcamera_sensor_size\u001b[49m\u001b[43m,\u001b[49m\u001b[43m \u001b[49m\u001b[43mbarlow_reducer_factor\u001b[49m\u001b[43m,\u001b[49m\n\u001b[32m      3\u001b[39m \u001b[43m                                                                           \u001b[49m\u001b[43mexposure\u001b[49m\u001b[43m,\u001b[49m\u001b[43m \u001b[49m\u001b[43mfov_center_ra_h\u001b[49m\u001b[43m,\u001b[49m\u001b[43m \u001b[49m\u001b[43mfov_center_ra_m\u001b[49m\u001b[43m,\u001b[49m\u001b[43m \u001b[49m\u001b[43mfov_center_ra_s\u001b[49m\u001b[43m,\u001b[49m\u001b[43m \u001b[49m\u001b[43mfov_center_dec\u001b[49m\u001b[43m,\u001b[49m\n\u001b[32m      4\u001b[39m \u001b[43m                                                                           \u001b[49m\u001b[43mobserver_lat\u001b[49m\u001b[43m,\u001b[49m\u001b[43m \u001b[49m\u001b[43mobserver_lon\u001b[49m\u001b[43m,\u001b[49m\u001b[43m \u001b[49m\u001b[43mobserver_elev\u001b[49m\u001b[43m,\u001b[49m\u001b[43m \u001b[49m\n\u001b[32m      5\u001b[39m \u001b[43m                                                                           \u001b[49m\u001b[43mflight_data_type\u001b[49m\u001b[43m=\u001b[49m\u001b[33;43m\"\u001b[39;49m\u001b[33;43msimulated\u001b[39;49m\u001b[33;43m\"\u001b[39;49m\u001b[43m,\u001b[49m\u001b[43m \u001b[49m\u001b[43msimulated_flights\u001b[49m\u001b[43m=\u001b[49m\u001b[43msimulated_flights\u001b[49m\u001b[43m,\u001b[49m\u001b[43m \u001b[49m\u001b[43msimulated_time\u001b[49m\u001b[43m=\u001b[49m\u001b[43mtime\u001b[49m\u001b[43m)\u001b[49m\n\u001b[32m      7\u001b[39m \u001b[38;5;28;01mfor\u001b[39;00m flight \u001b[38;5;129;01min\u001b[39;00m flight_data:\n\u001b[32m      8\u001b[39m     \u001b[38;5;28mprint\u001b[39m(flight.entry, flight.exit)\n",
      "\u001b[36mFile \u001b[39m\u001b[32mc:\\Users\\lawre\\OneDrive - University of Toronto\\4th Year\\ECE496\\capstone-team-2024962\\backend\\src\\utils\\integration.py:41\u001b[39m, in \u001b[36mfind_flights_intersecting\u001b[39m\u001b[34m(focal_length, camera_sensor_size, barlow_reducer_factor, exposure, fov_center_ra_h, fov_center_ra_m, fov_center_ra_s, fov_center_dec, observer_lon, observer_lat, altitude, flight_data_type, simulated_flights, simulated_time)\u001b[39m\n\u001b[32m     39\u001b[39m observer_time = \u001b[38;5;28;01mNone\u001b[39;00m \u001b[38;5;28;01mif\u001b[39;00m simulated_time \u001b[38;5;129;01mis\u001b[39;00m \u001b[38;5;28;01mNone\u001b[39;00m \u001b[38;5;28;01melse\u001b[39;00m simulated_time\n\u001b[32m     40\u001b[39m \u001b[38;5;28;01mfor\u001b[39;00m elapsed_time \u001b[38;5;129;01min\u001b[39;00m \u001b[38;5;28mrange\u001b[39m(\u001b[32m0\u001b[39m, exposure, \u001b[32m5\u001b[39m): \n\u001b[32m---> \u001b[39m\u001b[32m41\u001b[39m     \u001b[43mcheck_intersection\u001b[49m\u001b[43m(\u001b[49m\u001b[43mflight_data\u001b[49m\u001b[43m,\u001b[49m\u001b[43m \u001b[49m\u001b[43muser_gps\u001b[49m\u001b[43m,\u001b[49m\u001b[43m \u001b[49m\u001b[43mobserver_time\u001b[49m\u001b[43m,\u001b[49m\u001b[43m \u001b[49m\u001b[43melapsed_time\u001b[49m\u001b[43m,\u001b[49m\u001b[43m \u001b[49m\u001b[43mfov_size\u001b[49m\u001b[43m,\u001b[49m\u001b[43m \u001b[49m\u001b[43mfov_center\u001b[49m\u001b[43m,\u001b[49m\u001b[43m \u001b[49m\u001b[43mflights_in_fov\u001b[49m\u001b[43m,\u001b[49m\u001b[43m \u001b[49m\u001b[43mflights_position\u001b[49m\u001b[43m)\u001b[49m    \n\u001b[32m     43\u001b[39m \u001b[38;5;28;01mreturn\u001b[39;00m flights_position, flight_data\n",
      "\u001b[36mFile \u001b[39m\u001b[32mc:\\Users\\lawre\\OneDrive - University of Toronto\\4th Year\\ECE496\\capstone-team-2024962\\backend\\src\\utils\\integration.py:72\u001b[39m, in \u001b[36mcheck_intersection\u001b[39m\u001b[34m(flight_data, user_gps, observer_time, elapsed_time, fov_size, fov_center, flights_in_fov, flights_position)\u001b[39m\n\u001b[32m     70\u001b[39m \u001b[38;5;66;03m# TODO: get user altitude from frontend\u001b[39;00m\n\u001b[32m     71\u001b[39m \u001b[38;5;28mprint\u001b[39m(lat, lon, alt)\n\u001b[32m---> \u001b[39m\u001b[32m72\u001b[39m flight.RA, flight.Dec = \u001b[43mconvert_lat_lon_to_ra_dec\u001b[49m\u001b[43m(\u001b[49m\n\u001b[32m     73\u001b[39m \u001b[43m    \u001b[49m\u001b[43msky_obj_lat\u001b[49m\u001b[43m=\u001b[49m\u001b[43mlat\u001b[49m\u001b[43m,\u001b[49m\n\u001b[32m     74\u001b[39m \u001b[43m    \u001b[49m\u001b[43msky_obj_lon\u001b[49m\u001b[43m=\u001b[49m\u001b[43mlon\u001b[49m\u001b[43m,\u001b[49m\n\u001b[32m     75\u001b[39m \u001b[43m    \u001b[49m\u001b[43msky_obj_alt\u001b[49m\u001b[43m=\u001b[49m\u001b[43malt\u001b[49m\u001b[43m,\u001b[49m\n\u001b[32m     76\u001b[39m \u001b[43m    \u001b[49m\u001b[43mobs_lat\u001b[49m\u001b[43m=\u001b[49m\u001b[43muser_gps\u001b[49m\u001b[43m[\u001b[49m\u001b[33;43m\"\u001b[39;49m\u001b[33;43mlatitude\u001b[39;49m\u001b[33;43m\"\u001b[39;49m\u001b[43m]\u001b[49m\u001b[43m,\u001b[49m\n\u001b[32m     77\u001b[39m \u001b[43m    \u001b[49m\u001b[43mobs_lon\u001b[49m\u001b[43m=\u001b[49m\u001b[43muser_gps\u001b[49m\u001b[43m[\u001b[49m\u001b[33;43m\"\u001b[39;49m\u001b[33;43mlongitude\u001b[39;49m\u001b[33;43m\"\u001b[39;49m\u001b[43m]\u001b[49m\u001b[43m,\u001b[49m\n\u001b[32m     78\u001b[39m \u001b[43m    \u001b[49m\u001b[43mobs_alt\u001b[49m\u001b[43m=\u001b[49m\u001b[32;43m0\u001b[39;49m\u001b[43m,\u001b[49m\n\u001b[32m     79\u001b[39m \u001b[43m    \u001b[49m\u001b[43mobserver_time\u001b[49m\u001b[43m=\u001b[49m\u001b[43mobserver_time\u001b[49m\u001b[43m)\u001b[49m\n\u001b[32m     81\u001b[39m intersection_check = dawson_d.d2(fov_size, flight.RA, flight.Dec, fov_center[\u001b[33m\"\u001b[39m\u001b[33mRA\u001b[39m\u001b[33m\"\u001b[39m], fov_center[\u001b[33m\"\u001b[39m\u001b[33mDec\u001b[39m\u001b[33m\"\u001b[39m])\n\u001b[32m     83\u001b[39m \u001b[38;5;66;03m# add flight if entering/exiting the fov\u001b[39;00m\n",
      "\u001b[36mFile \u001b[39m\u001b[32mc:\\Users\\lawre\\OneDrive - University of Toronto\\4th Year\\ECE496\\capstone-team-2024962\\backend\\src\\utils\\coord2.py:129\u001b[39m, in \u001b[36mconvert_lat_lon_to_ra_dec\u001b[39m\u001b[34m(sky_obj_lat, sky_obj_lon, sky_obj_alt, obs_lat, obs_lon, obs_alt, observer_time)\u001b[39m\n\u001b[32m    124\u001b[39m \u001b[38;5;66;03m# Define the observer's and object's locations.\u001b[39;00m\n\u001b[32m    125\u001b[39m observer_location = EarthLocation(lat=obs_lat * u.deg,\n\u001b[32m    126\u001b[39m                                   lon=obs_lon * u.deg,\n\u001b[32m    127\u001b[39m                                   height=obs_alt * u.m)\n\u001b[32m--> \u001b[39m\u001b[32m129\u001b[39m object_location = \u001b[43mEarthLocation\u001b[49m\u001b[43m(\u001b[49m\u001b[43mlat\u001b[49m\u001b[43m=\u001b[49m\u001b[43msky_obj_lat\u001b[49m\u001b[43m \u001b[49m\u001b[43m*\u001b[49m\u001b[43m \u001b[49m\u001b[43mu\u001b[49m\u001b[43m.\u001b[49m\u001b[43mdeg\u001b[49m\u001b[43m,\u001b[49m\n\u001b[32m    130\u001b[39m \u001b[43m                                \u001b[49m\u001b[43mlon\u001b[49m\u001b[43m=\u001b[49m\u001b[43msky_obj_lon\u001b[49m\u001b[43m \u001b[49m\u001b[43m*\u001b[49m\u001b[43m \u001b[49m\u001b[43mu\u001b[49m\u001b[43m.\u001b[49m\u001b[43mdeg\u001b[49m\u001b[43m,\u001b[49m\n\u001b[32m    131\u001b[39m \u001b[43m                                \u001b[49m\u001b[43mheight\u001b[49m\u001b[43m=\u001b[49m\u001b[43msky_obj_alt\u001b[49m\u001b[43m \u001b[49m\u001b[43m*\u001b[49m\u001b[43m \u001b[49m\u001b[43mu\u001b[49m\u001b[43m.\u001b[49m\u001b[43mm\u001b[49m\u001b[43m)\u001b[49m\n\u001b[32m    133\u001b[39m \u001b[38;5;66;03m# Get the ITRS coordinates for both the object and observer.\u001b[39;00m\n\u001b[32m    134\u001b[39m itrs_obj = object_location.get_itrs(obstime=observer_time)\n",
      "\u001b[36mFile \u001b[39m\u001b[32mc:\\Users\\lawre\\OneDrive - University of Toronto\\4th Year\\ECE496\\capstone-team-2024962\\.venv\\Lib\\site-packages\\astropy\\coordinates\\earth.py:225\u001b[39m, in \u001b[36mEarthLocation.__new__\u001b[39m\u001b[34m(cls, *args, **kwargs)\u001b[39m\n\u001b[32m    223\u001b[39m         \u001b[38;5;28mself\u001b[39m = \u001b[38;5;28mcls\u001b[39m.from_geodetic(*args, **kwargs)\n\u001b[32m    224\u001b[39m     \u001b[38;5;28;01mexcept\u001b[39;00m \u001b[38;5;167;01mException\u001b[39;00m \u001b[38;5;28;01mas\u001b[39;00m exc_geodetic:\n\u001b[32m--> \u001b[39m\u001b[32m225\u001b[39m         \u001b[38;5;28;01mraise\u001b[39;00m \u001b[38;5;167;01mTypeError\u001b[39;00m(\n\u001b[32m    226\u001b[39m             \u001b[33m\"\u001b[39m\u001b[33mCoordinates could not be parsed as either \u001b[39m\u001b[33m\"\u001b[39m\n\u001b[32m    227\u001b[39m             \u001b[33m\"\u001b[39m\u001b[33mgeocentric or geodetic, with respective \u001b[39m\u001b[33m\"\u001b[39m\n\u001b[32m    228\u001b[39m             \u001b[33mf\u001b[39m\u001b[33m'\u001b[39m\u001b[33mexceptions \u001b[39m\u001b[33m\"\u001b[39m\u001b[38;5;132;01m{\u001b[39;00mexc_geocentric\u001b[38;5;132;01m}\u001b[39;00m\u001b[33m\"\u001b[39m\u001b[33m and \u001b[39m\u001b[33m\"\u001b[39m\u001b[38;5;132;01m{\u001b[39;00mexc_geodetic\u001b[38;5;132;01m}\u001b[39;00m\u001b[33m\"\u001b[39m\u001b[33m'\u001b[39m\n\u001b[32m    229\u001b[39m         )\n\u001b[32m    230\u001b[39m \u001b[38;5;28;01mreturn\u001b[39;00m \u001b[38;5;28mself\u001b[39m\n",
      "\u001b[31mTypeError\u001b[39m: Coordinates could not be parsed as either geocentric or geodetic, with respective exceptions \"EarthLocation.from_geocentric() got an unexpected keyword argument 'lat'\" and \"Latitude angle(s) must be within -90 deg <= angle <= 90 deg, got 5066.621156177409 deg\""
     ]
    }
   ],
   "source": [
    "# Run\n",
    "flights_position, flight_data = flights_in_fov = find_flights_intersecting(focal_length, camera_sensor_size, barlow_reducer_factor,\n",
    "                                                                           exposure, fov_center_ra_h, fov_center_ra_m, fov_center_ra_s, fov_center_dec,\n",
    "                                                                           observer_lat, observer_lon, observer_elev, \n",
    "                                                                           flight_data_type=\"simulated\", simulated_flights=simulated_flights, simulated_time=time)\n",
    "\n",
    "for flight in flight_data:\n",
    "    print(flight.entry, flight.exit)\n",
    "\n",
    "for fp in flights_position:\n",
    "    print(fp)"
   ]
  },
  {
   "cell_type": "code",
   "execution_count": null,
   "metadata": {},
   "outputs": [],
   "source": []
  }
 ],
 "metadata": {
  "kernelspec": {
   "display_name": ".venv",
   "language": "python",
   "name": "python3"
  },
  "language_info": {
   "codemirror_mode": {
    "name": "ipython",
    "version": 3
   },
   "file_extension": ".py",
   "mimetype": "text/x-python",
   "name": "python",
   "nbconvert_exporter": "python",
   "pygments_lexer": "ipython3",
   "version": "3.12.6"
  }
 },
 "nbformat": 4,
 "nbformat_minor": 2
}
