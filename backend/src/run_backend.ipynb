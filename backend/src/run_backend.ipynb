{
 "cells": [
  {
   "cell_type": "code",
   "execution_count": 1,
   "metadata": {},
   "outputs": [],
   "source": [
    "import sys\n",
    "from datetime import datetime, timezone\n",
    "from astropy.time import Time\n",
    "import uuid\n",
    "\n",
    "sys.path.append(r\"c:\\Users\\lawre\\OneDrive - University of Toronto\\4th Year\\ECE496\\capstone-team-2024962\\backend\\src\\utils\")\n",
    "sys.path.append(r\"c:\\Users\\lawre\\OneDrive - University of Toronto\\4th Year\\ECE496\\capstone-team-2024962\\backend\")\n",
    "\n",
    "from utils.integration import find_flights_intersecting\n",
    "#from utils.integration_copy import find_flights_intersecting\n",
    "from utils.fov import check_flights_in_fov, haversine, fov_degrees_to_meters\n",
    "from utils.coord2 import convert_lat_lon_to_ra_dec, convert_ra_dec_to_lat_lon\n",
    "from utils.datatypes import ProcessedFlightInfo\n"
   ]
  },
  {
   "cell_type": "code",
   "execution_count": null,
   "metadata": {},
   "outputs": [
    {
     "name": "stdout",
     "output_type": "stream",
     "text": [
      "168.95000000000002\n",
      "input:  2.72 168.9529322842187 1067.4177901355858\n"
     ]
    },
    {
     "data": {
      "text/plain": [
       "{'flight_info': [],\n",
       " 'fov_border': {'lat': np.float64(2.72),\n",
       "  'lon': np.float64(168.9529322842187),\n",
       "  'radius': 1067.4177901355858}}"
      ]
     },
     "execution_count": 99,
     "metadata": {},
     "output_type": "execute_result"
    }
   ],
   "source": [
    "# Telescope settings\n",
    "focal_length = 200\n",
    "camera_sensor_size = 50\n",
    "barlow_reducer_factor = 3\n",
    "exposure = 120\n",
    "fov_center_ra_h = 0\n",
    "fov_center_ra_m = 0\n",
    "fov_center_ra_s = 0\n",
    "fov_center_dec = 0\n",
    "time = Time(datetime(2025,3,13,12,34,24,tzinfo=timezone.utc))\n",
    "\n",
    "fov_border = check_flights_in_fov(focal_length, camera_sensor_size, barlow_reducer_factor, \n",
    "                                  fov_center_ra_h, fov_center_ra_m, fov_center_ra_s, fov_center_dec,\n",
    "                                  flight_data_type=\"simulated\", simulated_flights=[], time = time)\n",
    "fov_size_m = fov_border['fov_border']['radius']\n",
    "fov_border\n",
    "\n"
   ]
  },
  {
   "cell_type": "code",
   "execution_count": null,
   "metadata": {},
   "outputs": [],
   "source": [
    "# observer and Flight information\n",
    "observer_lat = 0\n",
    "observer_lon = 0\n",
    "observer_elev = 0\n",
    "\n",
    "simulated_flights = [\n",
    "    ProcessedFlightInfo(uuid.uuid4(), \"SIM1\", 0.05, 0, 30000, 300, 270)\n",
    "]"
   ]
  },
  {
   "cell_type": "code",
   "execution_count": 107,
   "metadata": {},
   "outputs": [
    {
     "name": "stdout",
     "output_type": "stream",
     "text": [
      "168.95000000000002\n",
      "168.95000000000002\n",
      "lat, lon: 1.0000000000000013, 1.0\n",
      "RA, Dec: 173.7272113990658, 2.7226914138952796\n",
      "lat, lon: 1.0000000000000013, 0.9930917138095964\n",
      "RA, Dec: 173.7272645085769, 2.7226687100457148\n",
      "lat, lon: 1.0000000000000013, 0.9861834276191928\n",
      "RA, Dec: 173.7273176180694, 2.7226460062021602\n",
      "lat, lon: 1.0000000000000013, 0.979275141428789\n",
      "RA, Dec: 173.7273707275402, 2.722623302365904\n",
      "lat, lon: 1.0000000000000013, 0.9723668552383854\n",
      "RA, Dec: 173.72742383699216, 2.7226005985356623\n",
      "lat, lon: 1.0000000000000013, 0.9654585690479818\n",
      "RA, Dec: 173.7274769464222, 2.7225778947127366\n",
      "lat, lon: 1.0000000000000013, 0.958550282857578\n",
      "RA, Dec: 173.7275300558333, 2.7225551908958168\n",
      "lat, lon: 1.0000000000000013, 0.9516419966671744\n",
      "RA, Dec: 173.72758316522388, 2.7225324870855556\n",
      "lat, lon: 1.0000000000000013, 0.9447337104767708\n",
      "RA, Dec: 173.7276362745923, 2.7225097832826193\n",
      "lat, lon: 1.0000000000000013, 0.9378254242863671\n",
      "RA, Dec: 173.7276893839415, 2.722487079485686\n",
      "lat, lon: 1.0000000000000013, 0.9309171380959635\n",
      "RA, Dec: 173.72774249326693, 2.7224643756967026\n",
      "lat, lon: 1.0000000000000013, 0.9240088519055599\n",
      "RA, Dec: 173.72779560257592, 2.7224416719124696\n",
      "lat, lon: 1.0000000000000013, 0.9171005657151563\n",
      "RA, Dec: 173.727848711861, 2.7224189681361852\n",
      "lat, lon: 1.0000000000000013, 0.9101922795247527\n",
      "RA, Dec: 173.7279018211265, 2.7223962643659165\n",
      "lat, lon: 1.0000000000000013, 0.903283993334349\n",
      "RA, Dec: 173.72795493037088, 2.722373560602321\n",
      "lat, lon: 1.0000000000000013, 0.8963757071439453\n",
      "RA, Dec: 173.72800803959257, 2.722350856846047\n",
      "lat, lon: 1.0000000000000013, 0.8894674209535417\n",
      "RA, Dec: 173.72806114879444, 2.7223281530957975\n",
      "lat, lon: 1.0000000000000013, 0.882559134763138\n",
      "RA, Dec: 173.72811425797346, 2.722305449352854\n",
      "lat, lon: 1.0000000000000013, 0.8756508485727343\n",
      "RA, Dec: 173.7281673671325, 2.7222827456159524\n",
      "lat, lon: 1.0000000000000013, 0.8687425623823307\n",
      "RA, Dec: 173.72822047626698, 2.7222600418870164\n",
      "lat, lon: 1.0000000000000013, 0.861834276191927\n",
      "RA, Dec: 173.72827358538441, 2.722237338162804\n",
      "lat, lon: 1.0000000000000013, 0.8549259900015234\n",
      "RA, Dec: 173.7283266944771, 2.722214634446571\n",
      "lat, lon: 1.0000000000000013, 0.8480177038111197\n",
      "RA, Dec: 173.72837980354953, 2.7221919307363716\n",
      "lat, lon: 1.0000000000000013, 0.841109417620716\n",
      "RA, Dec: 173.72843291260006, 2.7221692270328455\n",
      "2025-03-13 12:34:24 0\n",
      "[{'ID': UUID('9e9aeab5-a84f-4d57-9905-bb264c0a0731'), 'RA': np.float64(173.7272113990658), 'Dec': np.float64(2.7226914138952796)}]\n",
      "[{'ID': UUID('9e9aeab5-a84f-4d57-9905-bb264c0a0731'), 'RA': np.float64(173.7272645085769), 'Dec': np.float64(2.7226687100457148)}]\n",
      "[{'ID': UUID('9e9aeab5-a84f-4d57-9905-bb264c0a0731'), 'RA': np.float64(173.7273176180694), 'Dec': np.float64(2.7226460062021602)}]\n",
      "[{'ID': UUID('9e9aeab5-a84f-4d57-9905-bb264c0a0731'), 'RA': np.float64(173.7273707275402), 'Dec': np.float64(2.722623302365904)}]\n",
      "[{'ID': UUID('9e9aeab5-a84f-4d57-9905-bb264c0a0731'), 'RA': np.float64(173.72742383699216), 'Dec': np.float64(2.7226005985356623)}]\n",
      "[{'ID': UUID('9e9aeab5-a84f-4d57-9905-bb264c0a0731'), 'RA': np.float64(173.7274769464222), 'Dec': np.float64(2.7225778947127366)}]\n",
      "[{'ID': UUID('9e9aeab5-a84f-4d57-9905-bb264c0a0731'), 'RA': np.float64(173.7275300558333), 'Dec': np.float64(2.7225551908958168)}]\n",
      "[{'ID': UUID('9e9aeab5-a84f-4d57-9905-bb264c0a0731'), 'RA': np.float64(173.72758316522388), 'Dec': np.float64(2.7225324870855556)}]\n",
      "[{'ID': UUID('9e9aeab5-a84f-4d57-9905-bb264c0a0731'), 'RA': np.float64(173.7276362745923), 'Dec': np.float64(2.7225097832826193)}]\n",
      "[{'ID': UUID('9e9aeab5-a84f-4d57-9905-bb264c0a0731'), 'RA': np.float64(173.7276893839415), 'Dec': np.float64(2.722487079485686)}]\n",
      "[{'ID': UUID('9e9aeab5-a84f-4d57-9905-bb264c0a0731'), 'RA': np.float64(173.72774249326693), 'Dec': np.float64(2.7224643756967026)}]\n",
      "[{'ID': UUID('9e9aeab5-a84f-4d57-9905-bb264c0a0731'), 'RA': np.float64(173.72779560257592), 'Dec': np.float64(2.7224416719124696)}]\n",
      "[{'ID': UUID('9e9aeab5-a84f-4d57-9905-bb264c0a0731'), 'RA': np.float64(173.727848711861), 'Dec': np.float64(2.7224189681361852)}]\n",
      "[{'ID': UUID('9e9aeab5-a84f-4d57-9905-bb264c0a0731'), 'RA': np.float64(173.7279018211265), 'Dec': np.float64(2.7223962643659165)}]\n",
      "[{'ID': UUID('9e9aeab5-a84f-4d57-9905-bb264c0a0731'), 'RA': np.float64(173.72795493037088), 'Dec': np.float64(2.722373560602321)}]\n",
      "[{'ID': UUID('9e9aeab5-a84f-4d57-9905-bb264c0a0731'), 'RA': np.float64(173.72800803959257), 'Dec': np.float64(2.722350856846047)}]\n",
      "[{'ID': UUID('9e9aeab5-a84f-4d57-9905-bb264c0a0731'), 'RA': np.float64(173.72806114879444), 'Dec': np.float64(2.7223281530957975)}]\n",
      "[{'ID': UUID('9e9aeab5-a84f-4d57-9905-bb264c0a0731'), 'RA': np.float64(173.72811425797346), 'Dec': np.float64(2.722305449352854)}]\n",
      "[{'ID': UUID('9e9aeab5-a84f-4d57-9905-bb264c0a0731'), 'RA': np.float64(173.7281673671325), 'Dec': np.float64(2.7222827456159524)}]\n",
      "[{'ID': UUID('9e9aeab5-a84f-4d57-9905-bb264c0a0731'), 'RA': np.float64(173.72822047626698), 'Dec': np.float64(2.7222600418870164)}]\n",
      "[{'ID': UUID('9e9aeab5-a84f-4d57-9905-bb264c0a0731'), 'RA': np.float64(173.72827358538441), 'Dec': np.float64(2.722237338162804)}]\n",
      "[{'ID': UUID('9e9aeab5-a84f-4d57-9905-bb264c0a0731'), 'RA': np.float64(173.7283266944771), 'Dec': np.float64(2.722214634446571)}]\n",
      "[{'ID': UUID('9e9aeab5-a84f-4d57-9905-bb264c0a0731'), 'RA': np.float64(173.72837980354953), 'Dec': np.float64(2.7221919307363716)}]\n",
      "[{'ID': UUID('9e9aeab5-a84f-4d57-9905-bb264c0a0731'), 'RA': np.float64(173.72843291260006), 'Dec': np.float64(2.7221692270328455)}]\n"
     ]
    }
   ],
   "source": [
    "# Run\n",
    "flights_position, flight_data = flights_in_fov = find_flights_intersecting(focal_length, camera_sensor_size, barlow_reducer_factor,\n",
    "                                                                           exposure, fov_center_ra_h, fov_center_ra_m, fov_center_ra_s, fov_center_dec,\n",
    "                                                                           observer_lat, observer_lon, observer_elev, \n",
    "                                                                           flight_data_type=\"simulated\", simulated_flights=simulated_flights, simulated_time=time)\n",
    "\n",
    "for flight in flight_data:\n",
    "    print(flight.entry, flight.exit)\n",
    "\n",
    "for fp in flights_position:\n",
    "    print(fp)"
   ]
  },
  {
   "cell_type": "code",
   "execution_count": 89,
   "metadata": {},
   "outputs": [
    {
     "data": {
      "text/plain": [
       "5559.746332227937"
      ]
     },
     "execution_count": 89,
     "metadata": {},
     "output_type": "execute_result"
    }
   ],
   "source": [
    "haversine(0.05, 0, 0, 0)"
   ]
  },
  {
   "cell_type": "code",
   "execution_count": 18,
   "metadata": {},
   "outputs": [
    {
     "data": {
      "text/plain": [
       "(np.float64(173.72725416921577), np.float64(2.7226491195498377))"
      ]
     },
     "execution_count": 18,
     "metadata": {},
     "output_type": "execute_result"
    }
   ],
   "source": [
    "convert_lat_lon_to_ra_dec(sky_obj_lat=0, sky_obj_lon=0, sky_obj_alt=2500, obs_lat=observer_lat, obs_lon=observer_lon, obs_alt=observer_elev, observer_time=time)"
   ]
  },
  {
   "cell_type": "code",
   "execution_count": 27,
   "metadata": {},
   "outputs": [
    {
     "data": {
      "text/plain": [
       "(<Latitude 2.72 deg>, <Angle 173.75586457 deg>)"
      ]
     },
     "execution_count": 27,
     "metadata": {},
     "output_type": "execute_result"
    }
   ],
   "source": [
    "convert_ra_dec_to_lat_lon(ra=173.75293228421867, dec=2.72, time=time)"
   ]
  },
  {
   "cell_type": "code",
   "execution_count": 4,
   "metadata": {},
   "outputs": [
    {
     "data": {
      "text/plain": [
       "4.7746482927568605"
      ]
     },
     "execution_count": 4,
     "metadata": {},
     "output_type": "execute_result"
    }
   ],
   "source": [
    "import math\n",
    "\n",
    "def fov_meters_to_degrees(fov_meters, distance_meters):\n",
    "    \"\"\"Convert a circular FoV size in meters to degrees given the distance.\"\"\"\n",
    "    fov_radians = 2 * math.atan((fov_meters / 2) / distance_meters)\n",
    "    fov_degrees = math.degrees(fov_radians)\n",
    "    return fov_degrees\n",
    "\n",
    "distance_meters = 12801.6\n",
    "\n",
    "fov_meters_to_degrees(fov_size_m, distance_meters)"
   ]
  },
  {
   "cell_type": "code",
   "execution_count": 21,
   "metadata": {},
   "outputs": [
    {
     "data": {
      "text/plain": [
       "3052.996762320316"
      ]
     },
     "execution_count": 21,
     "metadata": {},
     "output_type": "execute_result"
    }
   ],
   "source": [
    "fov_degrees_to_meters(13.6, distance_meters)"
   ]
  },
  {
   "cell_type": "code",
   "execution_count": null,
   "metadata": {},
   "outputs": [],
   "source": []
  }
 ],
 "metadata": {
  "kernelspec": {
   "display_name": ".venv",
   "language": "python",
   "name": "python3"
  },
  "language_info": {
   "codemirror_mode": {
    "name": "ipython",
    "version": 3
   },
   "file_extension": ".py",
   "mimetype": "text/x-python",
   "name": "python",
   "nbconvert_exporter": "python",
   "pygments_lexer": "ipython3",
   "version": "3.12.6"
  }
 },
 "nbformat": 4,
 "nbformat_minor": 2
}
